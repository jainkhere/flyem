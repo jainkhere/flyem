{
 "cells": [
  {
   "cell_type": "code",
   "execution_count": 1,
   "id": "eeae56a2",
   "metadata": {},
   "outputs": [
    {
     "name": "stdout",
     "output_type": "stream",
     "text": [
      "Populating the interactive namespace from numpy and matplotlib\n"
     ]
    }
   ],
   "source": [
    "%pylab inline"
   ]
  },
  {
   "cell_type": "code",
   "execution_count": 2,
   "id": "791599b1",
   "metadata": {},
   "outputs": [
    {
     "name": "stderr",
     "output_type": "stream",
     "text": [
      "/home/kunal.jain001/miniconda3/envs/O/lib/python3.9/site-packages/scipy/__init__.py:146: UserWarning: A NumPy version >=1.16.5 and <1.23.0 is required for this version of SciPy (detected version 1.23.5\n",
      "  warnings.warn(f\"A NumPy version >={np_minversion} and <{np_maxversion}\"\n",
      "2023-04-12 12:48:13.191003: I tensorflow/stream_executor/platform/default/dso_loader.cc:53] Successfully opened dynamic library libcudart.so.11.0\n"
     ]
    },
    {
     "name": "stdout",
     "output_type": "stream",
     "text": [
      "-----------------------------------------\n",
      "keras-unet init: TF version is >= 2.0.0 - using `tf.keras` instead of `Keras`\n",
      "-----------------------------------------\n"
     ]
    }
   ],
   "source": [
    "from imports import *"
   ]
  },
  {
   "cell_type": "code",
   "execution_count": 3,
   "id": "b06275b2",
   "metadata": {},
   "outputs": [],
   "source": [
    "%matplotlib inline\n",
    "%load_ext autoreload\n",
    "%autoreload 2"
   ]
  },
  {
   "cell_type": "code",
   "execution_count": 4,
   "id": "bdae425d",
   "metadata": {},
   "outputs": [],
   "source": [
    "import data_management\n",
    "from data_management import load_stack\n",
    "from data_management import load_data\n",
    "\n",
    "import interactive_plot\n",
    "\n",
    "import metrics\n",
    "from metrics import statistics\n",
    "from metrics import confusion_matrix\n",
    "from metrics import error_distribution\n",
    "from metrics import error_borders\n",
    "from metrics import PR_curve\n",
    "\n",
    "import generator_extended\n",
    "\n",
    "import unet\n",
    "from unet import load_model_unet\n",
    "from unet import predict_net\n",
    "from unet import get_unet\n",
    "from unet import train\n",
    "from unet import execute_predict"
   ]
  },
  {
   "cell_type": "code",
   "execution_count": 5,
   "id": "4f1657fa",
   "metadata": {},
   "outputs": [],
   "source": [
    "NPYPATH = '/raid/mpsych/RISTERLAB/fly_segmentation_experiments/data_dir/test2/pre_processing/npy/'\n",
    "MODELPATH = '/raid/mpsych/RISTERLAB/fly_segmentation_experiments/classified_images/models/04-12-2/'\n",
    "PRED_TESTING_PATH = '/raid/mpsych/RISTERLAB/fly_segmentation_experiments/classified_images/models/04-12-2/predictions/'\n",
    "images_file = os.path.join(NPYPATH, 'original.npy')\n",
    "labels_file = os.path.join(NPYPATH, 'mask.npy')"
   ]
  },
  {
   "cell_type": "code",
   "execution_count": 6,
   "id": "b94d14a8",
   "metadata": {},
   "outputs": [],
   "source": [
    "def get_random_images_and_labels(images, labels, num_imgs = 10):\n",
    "    random_indices = np.random.choice(len(images), num_imgs)\n",
    "    \n",
    "    images = np.expand_dims(images, axis=3)\n",
    "    labels = np.expand_dims(labels, axis=3)\n",
    "\n",
    "    new_imgs = np.empty([num_imgs, 512, 512, 1])\n",
    "    new_labels = np.empty([num_imgs, 512, 512, 1])\n",
    "    z = 0\n",
    "    for i in random_indices:\n",
    "        new_imgs[z] = images[i]\n",
    "        new_labels[z] = labels[i]\n",
    "        z = z + 1\n",
    "    return new_imgs, new_labels"
   ]
  },
  {
   "cell_type": "code",
   "execution_count": 7,
   "id": "bf266a90",
   "metadata": {},
   "outputs": [],
   "source": [
    "images = np.load(images_file)\n",
    "labels = np.load(labels_file)"
   ]
  },
  {
   "cell_type": "code",
   "execution_count": 8,
   "id": "971c2ed4",
   "metadata": {},
   "outputs": [],
   "source": [
    "random_images, random_labels = get_random_images_and_labels(images, labels, num_imgs=1200)"
   ]
  },
  {
   "cell_type": "code",
   "execution_count": 9,
   "id": "6d1442cc",
   "metadata": {},
   "outputs": [],
   "source": [
    "test_img_num = int(len(random_images)/2)"
   ]
  },
  {
   "cell_type": "code",
   "execution_count": 10,
   "id": "5d8588c6",
   "metadata": {},
   "outputs": [],
   "source": [
    "imgs_train = random_images[0:test_img_num]\n",
    "imgs_mask_train = random_labels[0:test_img_num]\n",
    "imgs_test = random_images[test_img_num:]\n",
    "imgs_mask_test = random_labels[test_img_num:]"
   ]
  },
  {
   "cell_type": "code",
   "execution_count": 11,
   "id": "19ecc936",
   "metadata": {},
   "outputs": [],
   "source": [
    "def normalize_image(a):\n",
    "    a /= a.max()\n",
    "    return a"
   ]
  },
  {
   "cell_type": "code",
   "execution_count": 12,
   "id": "e7421707",
   "metadata": {},
   "outputs": [
    {
     "name": "stdout",
     "output_type": "stream",
     "text": [
      "0.0 1.0\n",
      "0.0 1.0\n",
      "0.0 1.0\n",
      "0.0 1.0\n"
     ]
    }
   ],
   "source": [
    "for i in range(test_img_num):\n",
    "    imgs_train[i] = normalize_image(imgs_train[i])\n",
    "    imgs_test[i] = normalize_image(imgs_test[i])\n",
    "\n",
    "print(imgs_train.min(), imgs_train.max())\n",
    "print(imgs_mask_train.min(), imgs_mask_train.max())\n",
    "print(imgs_test.min(), imgs_test.max())\n",
    "print(imgs_mask_test.min(), imgs_mask_test.max())"
   ]
  },
  {
   "cell_type": "code",
   "execution_count": 13,
   "id": "a970bb4f",
   "metadata": {},
   "outputs": [
    {
     "data": {
      "image/png": "[encoded data removed]",
      "text/plain": [
       "<Figure size 504x288 with 1 Axes>"
      ]
     },
     "metadata": {
      "needs_background": "light"
     },
     "output_type": "display_data"
    }
   ],
   "source": [
    "plt.figure(figsize=(7,4))\n",
    "plt.imshow(imgs_mask_test[0,:,:,0], cmap='gray')\n",
    "bimg = mh.borders(imgs_mask_test[0,:,:,0]).astype(int)\n",
    "res = plt.imshow(bimg, alpha=0.9, cmap='gray')"
   ]
  },
  {
   "cell_type": "code",
   "execution_count": null,
   "id": "4be75aa9",
   "metadata": {},
   "outputs": [],
   "source": []
  },
  {
   "cell_type": "code",
   "execution_count": 14,
   "id": "eac6c0cc",
   "metadata": {},
   "outputs": [
    {
     "name": "stderr",
     "output_type": "stream",
     "text": [
      "2023-04-12 12:48:16.979962: I tensorflow/stream_executor/platform/default/dso_loader.cc:53] Successfully opened dynamic library libcuda.so.1\n",
      "2023-04-12 12:48:17.190961: I tensorflow/core/common_runtime/gpu/gpu_device.cc:1733] Found device 0 with properties: \n",
      "pciBusID: 0000:87:00.0 name: A100-SXM4-40GB computeCapability: 8.0\n",
      "coreClock: 1.41GHz coreCount: 108 deviceMemorySize: 39.59GiB deviceMemoryBandwidth: 1.41TiB/s\n",
      "2023-04-12 12:48:17.193617: I tensorflow/core/common_runtime/gpu/gpu_device.cc:1733] Found device 1 with properties: \n",
      "pciBusID: 0000:90:00.0 name: A100-SXM4-40GB computeCapability: 8.0\n",
      "coreClock: 1.41GHz coreCount: 108 deviceMemorySize: 39.59GiB deviceMemoryBandwidth: 1.41TiB/s\n",
      "2023-04-12 12:48:17.193640: I tensorflow/stream_executor/platform/default/dso_loader.cc:53] Successfully opened dynamic library libcudart.so.11.0\n",
      "2023-04-12 12:48:17.196862: I tensorflow/stream_executor/platform/default/dso_loader.cc:53] Successfully opened dynamic library libcublas.so.11\n",
      "2023-04-12 12:48:17.196901: I tensorflow/stream_executor/platform/default/dso_loader.cc:53] Successfully opened dynamic library libcublasLt.so.11\n",
      "2023-04-12 12:48:17.197693: I tensorflow/stream_executor/platform/default/dso_loader.cc:53] Successfully opened dynamic library libcufft.so.10\n",
      "2023-04-12 12:48:17.198021: I tensorflow/stream_executor/platform/default/dso_loader.cc:53] Successfully opened dynamic library libcurand.so.10\n",
      "2023-04-12 12:48:17.198541: I tensorflow/stream_executor/platform/default/dso_loader.cc:53] Successfully opened dynamic library libcusolver.so.11\n",
      "2023-04-12 12:48:17.199307: I tensorflow/stream_executor/platform/default/dso_loader.cc:53] Successfully opened dynamic library libcusparse.so.11\n",
      "2023-04-12 12:48:17.199568: I tensorflow/stream_executor/platform/default/dso_loader.cc:53] Successfully opened dynamic library libcudnn.so.8\n",
      "2023-04-12 12:48:17.210269: I tensorflow/core/common_runtime/gpu/gpu_device.cc:1871] Adding visible gpu devices: 0, 1\n",
      "2023-04-12 12:48:17.210956: I tensorflow/core/platform/cpu_feature_guard.cc:142] This TensorFlow binary is optimized with oneAPI Deep Neural Network Library (oneDNN) to use the following CPU instructions in performance-critical operations:  AVX2 FMA\n",
      "To enable them in other operations, rebuild TensorFlow with the appropriate compiler flags.\n",
      "2023-04-12 12:48:17.446755: I tensorflow/core/common_runtime/gpu/gpu_device.cc:1733] Found device 0 with properties: \n",
      "pciBusID: 0000:87:00.0 name: A100-SXM4-40GB computeCapability: 8.0\n",
      "coreClock: 1.41GHz coreCount: 108 deviceMemorySize: 39.59GiB deviceMemoryBandwidth: 1.41TiB/s\n",
      "2023-04-12 12:48:17.449261: I tensorflow/core/common_runtime/gpu/gpu_device.cc:1733] Found device 1 with properties: \n",
      "pciBusID: 0000:90:00.0 name: A100-SXM4-40GB computeCapability: 8.0\n",
      "coreClock: 1.41GHz coreCount: 108 deviceMemorySize: 39.59GiB deviceMemoryBandwidth: 1.41TiB/s\n",
      "2023-04-12 12:48:17.459040: I tensorflow/core/common_runtime/gpu/gpu_device.cc:1871] Adding visible gpu devices: 0, 1\n",
      "2023-04-12 12:48:17.459112: I tensorflow/stream_executor/platform/default/dso_loader.cc:53] Successfully opened dynamic library libcudart.so.11.0\n",
      "2023-04-12 12:48:18.182981: I tensorflow/core/common_runtime/gpu/gpu_device.cc:1258] Device interconnect StreamExecutor with strength 1 edge matrix:\n",
      "2023-04-12 12:48:18.183025: I tensorflow/core/common_runtime/gpu/gpu_device.cc:1264]      0 1 \n",
      "2023-04-12 12:48:18.183031: I tensorflow/core/common_runtime/gpu/gpu_device.cc:1277] 0:   N Y \n",
      "2023-04-12 12:48:18.183035: I tensorflow/core/common_runtime/gpu/gpu_device.cc:1277] 1:   Y N \n",
      "2023-04-12 12:48:18.195779: I tensorflow/core/common_runtime/gpu/gpu_device.cc:1418] Created TensorFlow device (/job:localhost/replica:0/task:0/device:GPU:0 with 38425 MB memory) -> physical GPU (device: 0, name: A100-SXM4-40GB, pci bus id: 0000:87:00.0, compute capability: 8.0)\n",
      "2023-04-12 12:48:18.198498: I tensorflow/core/common_runtime/gpu/gpu_device.cc:1418] Created TensorFlow device (/job:localhost/replica:0/task:0/device:GPU:1 with 38425 MB memory) -> physical GPU (device: 1, name: A100-SXM4-40GB, pci bus id: 0000:90:00.0, compute capability: 8.0)\n"
     ]
    }
   ],
   "source": [
    "model = get_unet(0.0005, diceloss=False, jaccardloss=False, focalloss=False, customloss=False)"
   ]
  },
  {
   "cell_type": "code",
   "execution_count": 15,
   "id": "14a439e7",
   "metadata": {},
   "outputs": [
    {
     "name": "stdout",
     "output_type": "stream",
     "text": [
      "Model: \"model\"\n",
      "__________________________________________________________________________________________________\n",
      "Layer (type)                    Output Shape         Param #     Connected to                     \n",
      "==================================================================================================\n",
      "input_1 (InputLayer)            [(None, 512, 512, 1) 0                                            \n",
      "__________________________________________________________________________________________________\n",
      "conv2d (Conv2D)                 (None, 512, 512, 32) 320         input_1[0][0]                    \n",
      "__________________________________________________________________________________________________\n",
      "spatial_dropout2d (SpatialDropo (None, 512, 512, 32) 0           conv2d[0][0]                     \n",
      "__________________________________________________________________________________________________\n",
      "conv2d_1 (Conv2D)               (None, 512, 512, 32) 9248        spatial_dropout2d[0][0]          \n",
      "__________________________________________________________________________________________________\n",
      "max_pooling2d (MaxPooling2D)    (None, 256, 256, 32) 0           conv2d_1[0][0]                   \n",
      "__________________________________________________________________________________________________\n",
      "conv2d_2 (Conv2D)               (None, 256, 256, 64) 18496       max_pooling2d[0][0]              \n",
      "__________________________________________________________________________________________________\n",
      "spatial_dropout2d_1 (SpatialDro (None, 256, 256, 64) 0           conv2d_2[0][0]                   \n",
      "__________________________________________________________________________________________________\n",
      "conv2d_3 (Conv2D)               (None, 256, 256, 64) 36928       spatial_dropout2d_1[0][0]        \n",
      "__________________________________________________________________________________________________\n",
      "max_pooling2d_1 (MaxPooling2D)  (None, 128, 128, 64) 0           conv2d_3[0][0]                   \n",
      "__________________________________________________________________________________________________\n",
      "conv2d_4 (Conv2D)               (None, 128, 128, 128 73856       max_pooling2d_1[0][0]            \n",
      "__________________________________________________________________________________________________\n",
      "spatial_dropout2d_2 (SpatialDro (None, 128, 128, 128 0           conv2d_4[0][0]                   \n",
      "__________________________________________________________________________________________________\n",
      "conv2d_5 (Conv2D)               (None, 128, 128, 128 147584      spatial_dropout2d_2[0][0]        \n",
      "__________________________________________________________________________________________________\n",
      "max_pooling2d_2 (MaxPooling2D)  (None, 64, 64, 128)  0           conv2d_5[0][0]                   \n",
      "__________________________________________________________________________________________________\n",
      "conv2d_6 (Conv2D)               (None, 64, 64, 256)  295168      max_pooling2d_2[0][0]            \n",
      "__________________________________________________________________________________________________\n",
      "spatial_dropout2d_3 (SpatialDro (None, 64, 64, 256)  0           conv2d_6[0][0]                   \n",
      "__________________________________________________________________________________________________\n",
      "conv2d_7 (Conv2D)               (None, 64, 64, 256)  590080      spatial_dropout2d_3[0][0]        \n",
      "__________________________________________________________________________________________________\n",
      "max_pooling2d_3 (MaxPooling2D)  (None, 32, 32, 256)  0           conv2d_7[0][0]                   \n",
      "__________________________________________________________________________________________________\n",
      "conv2d_8 (Conv2D)               (None, 32, 32, 512)  1180160     max_pooling2d_3[0][0]            \n",
      "__________________________________________________________________________________________________\n",
      "spatial_dropout2d_4 (SpatialDro (None, 32, 32, 512)  0           conv2d_8[0][0]                   \n",
      "__________________________________________________________________________________________________\n",
      "conv2d_9 (Conv2D)               (None, 32, 32, 512)  2359808     spatial_dropout2d_4[0][0]        \n",
      "__________________________________________________________________________________________________\n",
      "conv2d_transpose (Conv2DTranspo (None, 64, 64, 256)  524544      conv2d_9[0][0]                   \n",
      "__________________________________________________________________________________________________\n",
      "concatenate (Concatenate)       (None, 64, 64, 512)  0           conv2d_transpose[0][0]           \n",
      "                                                                 conv2d_7[0][0]                   \n",
      "__________________________________________________________________________________________________\n",
      "conv2d_10 (Conv2D)              (None, 64, 64, 256)  1179904     concatenate[0][0]                \n",
      "__________________________________________________________________________________________________\n",
      "conv2d_11 (Conv2D)              (None, 64, 64, 256)  590080      conv2d_10[0][0]                  \n",
      "__________________________________________________________________________________________________\n",
      "conv2d_transpose_1 (Conv2DTrans (None, 128, 128, 128 131200      conv2d_11[0][0]                  \n",
      "__________________________________________________________________________________________________\n",
      "concatenate_1 (Concatenate)     (None, 128, 128, 256 0           conv2d_transpose_1[0][0]         \n",
      "                                                                 conv2d_5[0][0]                   \n",
      "__________________________________________________________________________________________________\n",
      "conv2d_12 (Conv2D)              (None, 128, 128, 128 295040      concatenate_1[0][0]              \n",
      "__________________________________________________________________________________________________\n",
      "conv2d_13 (Conv2D)              (None, 128, 128, 128 147584      conv2d_12[0][0]                  \n",
      "__________________________________________________________________________________________________\n",
      "conv2d_transpose_2 (Conv2DTrans (None, 256, 256, 64) 32832       conv2d_13[0][0]                  \n",
      "__________________________________________________________________________________________________\n",
      "concatenate_2 (Concatenate)     (None, 256, 256, 128 0           conv2d_transpose_2[0][0]         \n",
      "                                                                 conv2d_3[0][0]                   \n",
      "__________________________________________________________________________________________________\n",
      "conv2d_14 (Conv2D)              (None, 256, 256, 64) 73792       concatenate_2[0][0]              \n",
      "__________________________________________________________________________________________________\n",
      "conv2d_15 (Conv2D)              (None, 256, 256, 64) 36928       conv2d_14[0][0]                  \n",
      "__________________________________________________________________________________________________\n",
      "conv2d_transpose_3 (Conv2DTrans (None, 512, 512, 32) 8224        conv2d_15[0][0]                  \n",
      "__________________________________________________________________________________________________\n",
      "concatenate_3 (Concatenate)     (None, 512, 512, 64) 0           conv2d_transpose_3[0][0]         \n",
      "                                                                 conv2d_1[0][0]                   \n",
      "__________________________________________________________________________________________________\n",
      "conv2d_16 (Conv2D)              (None, 512, 512, 32) 18464       concatenate_3[0][0]              \n",
      "__________________________________________________________________________________________________\n",
      "conv2d_17 (Conv2D)              (None, 512, 512, 32) 9248        conv2d_16[0][0]                  \n",
      "__________________________________________________________________________________________________\n",
      "conv2d_18 (Conv2D)              (None, 512, 512, 1)  33          conv2d_17[0][0]                  \n",
      "==================================================================================================\n",
      "Total params: 7,759,521\n",
      "Trainable params: 7,759,521\n",
      "Non-trainable params: 0\n",
      "__________________________________________________________________________________________________\n"
     ]
    }
   ],
   "source": [
    "model.summary()"
   ]
  },
  {
   "cell_type": "code",
   "execution_count": null,
   "id": "08b645ae",
   "metadata": {},
   "outputs": [
    {
     "data": {
      "image/png": "[encoded data removed]",
      "text/plain": [
       "<Figure size 1008x720 with 6 Axes>"
      ]
     },
     "metadata": {
      "needs_background": "light"
     },
     "output_type": "display_data"
    },
    {
     "name": "stdout",
     "output_type": "stream",
     "text": [
      "iteration 9\n",
      "loss 0.17386925220489502 loss_val 0.1823563575744629\n",
      "acc None acc_val None\n",
      "prec 0.6451555490493774 prec_val 0.7589055895805359\n",
      "rec 0.29658079147338867 rec_val 0.0019091125577688217\n",
      "jaccard 0.2107045203447342 jaccard_val 0.15862594544887543\n",
      "dice 0.3418332636356354 dice_val 0.27129441499710083\n",
      "time per epoch: 13.319615840911865\n",
      "Epoch 10/1000\n",
      "  5/100 [>.............................] - ETA: 6s - loss: 0.1620 - accuracy: 0.9246 - iou: 0.2285 - iou_thresholded: 0.2428 - keras_precision: 0.6534 - keras_recall: 0.3073 - keras_jaccard_coef: 0.2182 - keras_dice_coef: 0.3557\n",
      "Epoch 00010: saving model to /raid/mpsych/RISTERLAB/fly_segmentation_experiments/classified_images/models/04-12-2/weights.10-0.16.hdf5\n",
      " 10/100 [==>...........................] - ETA: 7s - loss: 0.1597 - accuracy: 0.9218 - iou: 0.2287 - iou_thresholded: 0.1927 - keras_precision: 0.6620 - keras_recall: 0.2320 - keras_jaccard_coef: 0.2191 - keras_dice_coef: 0.3567batch 10 of 100 ...\n",
      "\n",
      "Epoch 00010: saving model to /raid/mpsych/RISTERLAB/fly_segmentation_experiments/classified_images/models/04-12-2/weights.10-0.16.hdf5\n",
      " 15/100 [===>..........................] - ETA: 7s - loss: 0.1527 - accuracy: 0.9260 - iou: 0.2318 - iou_thresholded: 0.2077 - keras_precision: 0.6429 - keras_recall: 0.2563 - keras_jaccard_coef: 0.2242 - keras_dice_coef: 0.3627\n",
      "Epoch 00010: saving model to /raid/mpsych/RISTERLAB/fly_segmentation_experiments/classified_images/models/04-12-2/weights.10-0.15.hdf5\n",
      " 20/100 [=====>........................] - ETA: 7s - loss: 0.1527 - accuracy: 0.9264 - iou: 0.2424 - iou_thresholded: 0.2514 - keras_precision: 0.6280 - keras_recall: 0.3256 - keras_jaccard_coef: 0.2365 - keras_dice_coef: 0.3779batch 20 of 100 ...\n",
      "\n",
      "Epoch 00010: saving model to /raid/mpsych/RISTERLAB/fly_segmentation_experiments/classified_images/models/04-12-2/weights.10-0.15.hdf5\n",
      " 25/100 [======>.......................] - ETA: 7s - loss: 0.1530 - accuracy: 0.9264 - iou: 0.2423 - iou_thresholded: 0.2388 - keras_precision: 0.6471 - keras_recall: 0.3009 - keras_jaccard_coef: 0.2349 - keras_dice_coef: 0.3753\n",
      "Epoch 00010: saving model to /raid/mpsych/RISTERLAB/fly_segmentation_experiments/classified_images/models/04-12-2/weights.10-0.15.hdf5\n",
      " 30/100 [========>.....................] - ETA: 6s - loss: 0.1527 - accuracy: 0.9271 - iou: 0.2520 - iou_thresholded: 0.2750 - keras_precision: 0.6377 - keras_recall: 0.3701 - keras_jaccard_coef: 0.2456 - keras_dice_coef: 0.3885batch 30 of 100 ...\n",
      "\n",
      "Epoch 00010: saving model to /raid/mpsych/RISTERLAB/fly_segmentation_experiments/classified_images/models/04-12-2/weights.10-0.15.hdf5\n",
      " 35/100 [=========>....................] - ETA: 6s - loss: 0.1551 - accuracy: 0.9278 - iou: 0.2515 - iou_thresholded: 0.2773 - keras_precision: 0.6552 - keras_recall: 0.3640 - keras_jaccard_coef: 0.2434 - keras_dice_coef: 0.3845\n",
      "Epoch 00010: saving model to /raid/mpsych/RISTERLAB/fly_segmentation_experiments/classified_images/models/04-12-2/weights.10-0.16.hdf5\n",
      " 40/100 [===========>..................] - ETA: 5s - loss: 0.1554 - accuracy: 0.9279 - iou: 0.2543 - iou_thresholded: 0.2854 - keras_precision: 0.6560 - keras_recall: 0.3717 - keras_jaccard_coef: 0.2461 - keras_dice_coef: 0.3877batch 40 of 100 ...\n",
      "\n",
      "Epoch 00010: saving model to /raid/mpsych/RISTERLAB/fly_segmentation_experiments/classified_images/models/04-12-2/weights.10-0.16.hdf5\n",
      " 45/100 [============>.................] - ETA: 5s - loss: 0.1544 - accuracy: 0.9286 - iou: 0.2616 - iou_thresholded: 0.2986 - keras_precision: 0.6557 - keras_recall: 0.3896 - keras_jaccard_coef: 0.2532 - keras_dice_coef: 0.3961\n",
      "Epoch 00010: saving model to /raid/mpsych/RISTERLAB/fly_segmentation_experiments/classified_images/models/04-12-2/weights.10-0.15.hdf5\n",
      " 50/100 [==============>...............] - ETA: 5s - loss: 0.1536 - accuracy: 0.9292 - iou: 0.2638 - iou_thresholded: 0.3033 - keras_precision: 0.6614 - keras_recall: 0.3908 - keras_jaccard_coef: 0.2550 - keras_dice_coef: 0.3982batch 50 of 100 ...\n",
      "\n",
      "Epoch 00010: saving model to /raid/mpsych/RISTERLAB/fly_segmentation_experiments/classified_images/models/04-12-2/weights.10-0.15.hdf5\n",
      " 55/100 [===============>..............] - ETA: 4s - loss: 0.1580 - accuracy: 0.9278 - iou: 0.2664 - iou_thresholded: 0.3082 - keras_precision: 0.6616 - keras_recall: 0.4044 - keras_jaccard_coef: 0.2570 - keras_dice_coef: 0.3992\n",
      "Epoch 00010: saving model to /raid/mpsych/RISTERLAB/fly_segmentation_experiments/classified_images/models/04-12-2/weights.10-0.16.hdf5\n",
      " 60/100 [=================>............] - ETA: 4s - loss: 0.1601 - accuracy: 0.9274 - iou: 0.2574 - iou_thresholded: 0.2864 - keras_precision: 0.6614 - keras_recall: 0.3746 - keras_jaccard_coef: 0.2480 - keras_dice_coef: 0.3870batch 60 of 100 ...\n",
      "\n",
      "Epoch 00010: saving model to /raid/mpsych/RISTERLAB/fly_segmentation_experiments/classified_images/models/04-12-2/weights.10-0.16.hdf5\n",
      " 65/100 [==================>...........] - ETA: 3s - loss: 0.1621 - accuracy: 0.9265 - iou: 0.2556 - iou_thresholded: 0.2861 - keras_precision: 0.6609 - keras_recall: 0.3755 - keras_jaccard_coef: 0.2465 - keras_dice_coef: 0.3858\n",
      "Epoch 00010: saving model to /raid/mpsych/RISTERLAB/fly_segmentation_experiments/classified_images/models/04-12-2/weights.10-0.16.hdf5\n",
      " 70/100 [====================>.........] - ETA: 3s - loss: 0.1618 - accuracy: 0.9268 - iou: 0.2513 - iou_thresholded: 0.2771 - keras_precision: 0.6603 - keras_recall: 0.3654 - keras_jaccard_coef: 0.2420 - keras_dice_coef: 0.3800batch 70 of 100 ...\n",
      "\n",
      "Epoch 00010: saving model to /raid/mpsych/RISTERLAB/fly_segmentation_experiments/classified_images/models/04-12-2/weights.10-0.16.hdf5\n",
      " 72/100 [====================>.........] - ETA: 2s - loss: 0.1626 - accuracy: 0.9265 - iou: 0.2497 - iou_thresholded: 0.2738 - keras_precision: 0.6620 - keras_recall: 0.3600 - keras_jaccard_coef: 0.2402 - keras_dice_coef: 0.3777"
     ]
    }
   ],
   "source": [
    "train(model, imgs_train, imgs_mask_train, imgs_test, imgs_mask_test,\n",
    "      MODELPATH, 4, 1000, verbosity=1, \n",
    "      perform_flipping=True, perform_rotation=True, to_dir=False, train_on_borders=False)"
   ]
  },
  {
   "cell_type": "code",
   "execution_count": null,
   "id": "f4b8109e",
   "metadata": {},
   "outputs": [],
   "source": [
    "pred = execute_predict(model, imgs_test, stepsize=512, resize_shortest=True, extensive=False)"
   ]
  },
  {
   "cell_type": "code",
   "execution_count": null,
   "id": "4a738bf6",
   "metadata": {},
   "outputs": [],
   "source": [
    "pred_file = os.path.join(MODELPATH, '4-12-pred.npy')\n",
    "\n",
    "np.save(pred_file, pred)"
   ]
  },
  {
   "cell_type": "code",
   "execution_count": null,
   "id": "ffedf67d",
   "metadata": {},
   "outputs": [],
   "source": [
    "cmatrix = confusion_matrix(pred, imgs_mask_test)"
   ]
  },
  {
   "cell_type": "code",
   "execution_count": null,
   "id": "74a5a05e",
   "metadata": {},
   "outputs": [],
   "source": [
    "statistics(cmatrix)"
   ]
  },
  {
   "cell_type": "code",
   "execution_count": null,
   "id": "11a540ea",
   "metadata": {},
   "outputs": [],
   "source": [
    "error_distribution(model, imgs_test, imgs_mask_test, extensive=True, figsize=(15,10))"
   ]
  },
  {
   "cell_type": "code",
   "execution_count": null,
   "id": "683dff89",
   "metadata": {},
   "outputs": [],
   "source": [
    "PR_curve(pred, imgs_mask_test)"
   ]
  },
  {
   "cell_type": "code",
   "execution_count": null,
   "id": "bc114d8f",
   "metadata": {},
   "outputs": [],
   "source": []
  },
  {
   "cell_type": "code",
   "execution_count": null,
   "id": "e6fda4fa",
   "metadata": {},
   "outputs": [],
   "source": [
    "input_img, gt = get_random_images_and_labels(images, labels, num_imgs=1)"
   ]
  },
  {
   "cell_type": "code",
   "execution_count": null,
   "id": "dff909aa",
   "metadata": {},
   "outputs": [],
   "source": [
    "input_img = np.squeeze(input_img, axis=(0,))\n",
    "gt = np.squeeze(gt, axis=(0,))"
   ]
  },
  {
   "cell_type": "code",
   "execution_count": null,
   "id": "01f469a3",
   "metadata": {},
   "outputs": [],
   "source": [
    "plt.figure(figsize = (15,15))\n",
    "plt.imshow(input_img, cmap='gray')\n",
    "\n",
    "print(input_img.shape)\n",
    "res = execute_predict(model, input_img.reshape(1,512,512,1).astype(float)/255.)\n",
    "print(res.min(), res.max())\n",
    "\n",
    "if (res.max() > 0.5):    \n",
    "    random_string = ''.join(random.choices(string.ascii_uppercase + string.digits, k=7))\n",
    "    testing_path = PRED_TESTING_PATH + random_string + '/'\n",
    "\n",
    "    if not os.path.isdir(testing_path):\n",
    "        os.mkdir(testing_path)\n",
    "    print('saving images at ' + testing_path)\n",
    "\n",
    "    res[res>0.5]=1\n",
    "    res[res<=0.5]=0\n",
    "\n",
    "    plt.figure(figsize = (15,15))\n",
    "    plt.imshow(res[0,:,:,0], cmap='gray')\n",
    "\n",
    "    plt.figure(figsize = (15,15))\n",
    "    plt.imshow(gt[:,:,0], cmap='gray')\n",
    "\n",
    "    cv2.imwrite(os.path.join(testing_path, 'example_img_raw.png'), input_img)\n",
    "    cv2.imwrite(os.path.join(testing_path, 'example_img_gt.png'), gt[:,:,0]*255)\n",
    "    cv2.imwrite(os.path.join(testing_path, 'example_img.png'), res[0,:,:,0]*255.)\n",
    "else:\n",
    "    print(\"Not a good segmentation result :(\")"
   ]
  }
 ],
 "metadata": {
  "kernelspec": {
   "display_name": "Python 3 (ipykernel)",
   "language": "python",
   "name": "python3"
  },
  "language_info": {
   "codemirror_mode": {
    "name": "ipython",
    "version": 3
   },
   "file_extension": ".py",
   "mimetype": "text/x-python",
   "name": "python",
   "nbconvert_exporter": "python",
   "pygments_lexer": "ipython3",
   "version": "3.9.7"
  }
 },
 "nbformat": 4,
 "nbformat_minor": 5
}
